{
 "cells": [
  {
   "cell_type": "markdown",
   "metadata": {
    "id": "alIIEHibGc3M"
   },
   "source": [
    "## Part 1: Preprocessing"
   ]
  },
  {
   "cell_type": "code",
   "execution_count": 5,
   "metadata": {
    "colab": {
     "base_uri": "https://localhost:8080/",
     "height": 325
    },
    "executionInfo": {
     "elapsed": 12323,
     "status": "ok",
     "timestamp": 1730699226906,
     "user": {
      "displayName": "Alexander Booth",
      "userId": "02269714993535573104"
     },
     "user_tz": 360
    },
    "id": "6eDUJ4NtGc3P",
    "outputId": "eeae54b5-3d17-442d-94ba-00dd55b89964"
   },
   "outputs": [
    {
     "name": "stdout",
     "output_type": "stream",
     "text": [
      "Data successfully loaded:\n",
      "   Age Attrition     BusinessTravel              Department  DistanceFromHome  \\\n",
      "0   41       Yes      Travel_Rarely                   Sales                 1   \n",
      "1   49        No  Travel_Frequently  Research & Development                 8   \n",
      "2   37       Yes      Travel_Rarely  Research & Development                 2   \n",
      "3   33        No  Travel_Frequently  Research & Development                 3   \n",
      "4   27        No      Travel_Rarely  Research & Development                 2   \n",
      "\n",
      "   Education EducationField  EnvironmentSatisfaction  HourlyRate  \\\n",
      "0          2  Life Sciences                        2          94   \n",
      "1          1  Life Sciences                        3          61   \n",
      "2          2          Other                        4          92   \n",
      "3          4  Life Sciences                        4          56   \n",
      "4          1        Medical                        1          40   \n",
      "\n",
      "   JobInvolvement  ...  PerformanceRating RelationshipSatisfaction  \\\n",
      "0               3  ...                  3                        1   \n",
      "1               2  ...                  4                        4   \n",
      "2               2  ...                  3                        2   \n",
      "3               3  ...                  3                        3   \n",
      "4               3  ...                  3                        4   \n",
      "\n",
      "   StockOptionLevel TotalWorkingYears  TrainingTimesLastYear WorkLifeBalance  \\\n",
      "0                 0                 8                      0               1   \n",
      "1                 1                10                      3               3   \n",
      "2                 0                 7                      3               3   \n",
      "3                 0                 8                      3               3   \n",
      "4                 1                 6                      3               3   \n",
      "\n",
      "   YearsAtCompany  YearsInCurrentRole  YearsSinceLastPromotion  \\\n",
      "0               6                   4                        0   \n",
      "1              10                   7                        1   \n",
      "2               0                   0                        0   \n",
      "3               8                   7                        3   \n",
      "4               2                   2                        2   \n",
      "\n",
      "   YearsWithCurrManager  \n",
      "0                     5  \n",
      "1                     7  \n",
      "2                     0  \n",
      "3                     0  \n",
      "4                     2  \n",
      "\n",
      "[5 rows x 27 columns]\n"
     ]
    }
   ],
   "source": [
    "# Import our dependencies\n",
    "from sklearn.model_selection import train_test_split\n",
    "from sklearn.preprocessing import StandardScaler\n",
    "import pandas as pd\n",
    "import numpy as np\n",
    "from tensorflow.keras.models import Model\n",
    "from tensorflow.keras import layers\n",
    "\n",
    "# Import and read the attrition data\n",
    "attrition_df = pd.read_csv('https://static.bc-edx.com/ai/ail-v-1-0/m19/lms/datasets/attrition.csv')\n",
    "\n",
    "# Print the first few rows to confirm successful load\n",
    "print(\"Data successfully loaded:\")\n",
    "print(attrition_df.head())\n"
   ]
  },
  {
   "cell_type": "code",
   "execution_count": 7,
   "metadata": {
    "colab": {
     "base_uri": "https://localhost:8080/",
     "height": 930
    },
    "executionInfo": {
     "elapsed": 10,
     "status": "ok",
     "timestamp": 1730699226906,
     "user": {
      "displayName": "Alexander Booth",
      "userId": "02269714993535573104"
     },
     "user_tz": 360
    },
    "id": "g22aQSY4Gc3Q",
    "outputId": "e8b68509-45d8-42e0-a9db-1bdce48e4b2d"
   },
   "outputs": [
    {
     "name": "stdout",
     "output_type": "stream",
     "text": [
      "Number of unique values in each column:\n",
      "Age                         43\n",
      "Attrition                    2\n",
      "BusinessTravel               3\n",
      "Department                   3\n",
      "DistanceFromHome            29\n",
      "Education                    5\n",
      "EducationField               6\n",
      "EnvironmentSatisfaction      4\n",
      "HourlyRate                  71\n",
      "JobInvolvement               4\n",
      "JobLevel                     5\n",
      "JobRole                      9\n",
      "JobSatisfaction              4\n",
      "MaritalStatus                3\n",
      "NumCompaniesWorked          10\n",
      "OverTime                     2\n",
      "PercentSalaryHike           15\n",
      "PerformanceRating            2\n",
      "RelationshipSatisfaction     4\n",
      "StockOptionLevel             4\n",
      "TotalWorkingYears           40\n",
      "TrainingTimesLastYear        7\n",
      "WorkLifeBalance              4\n",
      "YearsAtCompany              37\n",
      "YearsInCurrentRole          19\n",
      "YearsSinceLastPromotion     16\n",
      "YearsWithCurrManager        18\n",
      "dtype: int64\n"
     ]
    }
   ],
   "source": [
    "# Determine the number of unique values in each column\n",
    "unique_values = attrition_df.nunique()\n",
    "\n",
    "# Print the unique values for each column\n",
    "print(\"Number of unique values in each column:\")\n",
    "print(unique_values)\n"
   ]
  },
  {
   "cell_type": "code",
   "execution_count": 9,
   "metadata": {
    "executionInfo": {
     "elapsed": 7,
     "status": "ok",
     "timestamp": 1730699226906,
     "user": {
      "displayName": "Alexander Booth",
      "userId": "02269714993535573104"
     },
     "user_tz": 360
    },
    "id": "50vMgBEnJbfM"
   },
   "outputs": [
    {
     "name": "stdout",
     "output_type": "stream",
     "text": [
      "y_df created with the Attrition and Department columns:\n",
      "  Attrition              Department\n",
      "0       Yes                   Sales\n",
      "1        No  Research & Development\n",
      "2       Yes  Research & Development\n",
      "3        No  Research & Development\n",
      "4        No  Research & Development\n"
     ]
    }
   ],
   "source": [
    "# Create y_df with the Attrition and Department columns\n",
    "y_df = attrition_df[['Attrition', 'Department']]\n",
    "\n",
    "# Print the first few rows to verify\n",
    "print(\"y_df created with the Attrition and Department columns:\")\n",
    "print(y_df.head())\n"
   ]
  },
  {
   "cell_type": "code",
   "execution_count": 25,
   "metadata": {
    "colab": {
     "base_uri": "https://localhost:8080/",
     "height": 397
    },
    "executionInfo": {
     "elapsed": 125,
     "status": "ok",
     "timestamp": 1730699227025,
     "user": {
      "displayName": "Alexander Booth",
      "userId": "02269714993535573104"
     },
     "user_tz": 360
    },
    "id": "Virka0zLGc3R",
    "outputId": "24f181c9-7e2e-42cb-94e8-a75842f1ab01"
   },
   "outputs": [
    {
     "name": "stdout",
     "output_type": "stream",
     "text": [
      "Data types for X_df after encoding:\n",
      "Age                        int64\n",
      "DistanceFromHome           int64\n",
      "Education                  int64\n",
      "EnvironmentSatisfaction    int64\n",
      "JobInvolvement             int64\n",
      "JobLevel                   int64\n",
      "JobSatisfaction            int64\n",
      "NumCompaniesWorked         int64\n",
      "PercentSalaryHike          int64\n",
      "OverTime                   int64\n",
      "dtype: object\n"
     ]
    }
   ],
   "source": [
    "# Create a list of at least 10 column names to use as X data\n",
    "x_columns = [\n",
    "    'Age', 'DistanceFromHome', 'Education', 'EnvironmentSatisfaction',\n",
    "    'JobInvolvement', 'JobLevel', 'JobSatisfaction', 'NumCompaniesWorked',\n",
    "    'PercentSalaryHike', 'OverTime'\n",
    "]\n",
    "\n",
    "# Verify that the selected columns exist in the dataset\n",
    "missing_columns = [col for col in x_columns if col not in attrition_df.columns]\n",
    "if missing_columns:\n",
    "    print(f\"Error: The following columns are missing from the dataset: {missing_columns}\")\n",
    "else:\n",
    "    # Create X_df using your selected columns\n",
    "    X_df = attrition_df[x_columns].copy()\n",
    "\n",
    "    # Convert the 'OverTime' column to numeric values\n",
    "    X_df['OverTime'] = X_df['OverTime'].map({'Yes': 1, 'No': 0})\n",
    "\n",
    "    # Show the data types for X_df\n",
    "    print(\"Data types for X_df after encoding:\")\n",
    "    print(X_df.dtypes)\n"
   ]
  },
  {
   "cell_type": "code",
   "execution_count": 27,
   "metadata": {
    "executionInfo": {
     "elapsed": 9,
     "status": "ok",
     "timestamp": 1730699227025,
     "user": {
      "displayName": "Alexander Booth",
      "userId": "02269714993535573104"
     },
     "user_tz": 360
    },
    "id": "KaJfdOGUMHMR"
   },
   "outputs": [
    {
     "name": "stdout",
     "output_type": "stream",
     "text": [
      "X_train shape: (1176, 10)\n",
      "X_test shape: (294, 10)\n",
      "y_train shape: (1176, 2)\n",
      "y_test shape: (294, 2)\n"
     ]
    }
   ],
   "source": [
    "# Split the data into training and testing sets\n",
    "from sklearn.model_selection import train_test_split\n",
    "\n",
    "# Split the data with 80% for training and 20% for testing\n",
    "X_train, X_test, y_train, y_test = train_test_split(X_df, y_df, test_size=0.2, random_state=42)\n",
    "\n",
    "# Print the shapes of the training and testing sets to verify\n",
    "print(f\"X_train shape: {X_train.shape}\")\n",
    "print(f\"X_test shape: {X_test.shape}\")\n",
    "print(f\"y_train shape: {y_train.shape}\")\n",
    "print(f\"y_test shape: {y_test.shape}\")\n"
   ]
  },
  {
   "cell_type": "code",
   "execution_count": null,
   "metadata": {
    "colab": {
     "base_uri": "https://localhost:8080/",
     "height": 178
    },
    "executionInfo": {
     "elapsed": 8,
     "status": "ok",
     "timestamp": 1730699227025,
     "user": {
      "displayName": "Alexander Booth",
      "userId": "02269714993535573104"
     },
     "user_tz": 360
    },
    "id": "NYubUJqiLCSp",
    "outputId": "6116187c-4afa-4d4a-aeb9-fdc2131d0d58"
   },
   "outputs": [
    {
     "data": {
      "text/html": [
       "<div>\n",
       "<style scoped>\n",
       "    .dataframe tbody tr th:only-of-type {\n",
       "        vertical-align: middle;\n",
       "    }\n",
       "\n",
       "    .dataframe tbody tr th {\n",
       "        vertical-align: top;\n",
       "    }\n",
       "\n",
       "    .dataframe thead th {\n",
       "        text-align: right;\n",
       "    }\n",
       "</style>\n",
       "<table border=\"1\" class=\"dataframe\">\n",
       "  <thead>\n",
       "    <tr style=\"text-align: right;\">\n",
       "      <th></th>\n",
       "      <th>count</th>\n",
       "    </tr>\n",
       "    <tr>\n",
       "      <th>OverTime</th>\n",
       "      <th></th>\n",
       "    </tr>\n",
       "  </thead>\n",
       "  <tbody>\n",
       "    <tr>\n",
       "      <th>No</th>\n",
       "      <td>797</td>\n",
       "    </tr>\n",
       "    <tr>\n",
       "      <th>Yes</th>\n",
       "      <td>305</td>\n",
       "    </tr>\n",
       "  </tbody>\n",
       "</table>\n",
       "</div><br><label><b>dtype:</b> int64</label>"
      ],
      "text/plain": [
       "OverTime\n",
       "No     797\n",
       "Yes    305\n",
       "Name: count, dtype: int64"
      ]
     },
     "execution_count": 6,
     "metadata": {},
     "output_type": "execute_result"
    }
   ],
   "source": [
    "# Convert your X data to numeric data types however you see fit\n",
    "# Add new code cells as necessary\n"
   ]
  },
  {
   "cell_type": "code",
   "execution_count": 29,
   "metadata": {
    "executionInfo": {
     "elapsed": 6,
     "status": "ok",
     "timestamp": 1730699227162,
     "user": {
      "displayName": "Alexander Booth",
      "userId": "02269714993535573104"
     },
     "user_tz": 360
    },
    "id": "EWA-aIA5Gc3T"
   },
   "outputs": [
    {
     "name": "stdout",
     "output_type": "stream",
     "text": [
      "Data types for X_df after conversion:\n",
      "Age                        int64\n",
      "DistanceFromHome           int64\n",
      "Education                  int64\n",
      "EnvironmentSatisfaction    int64\n",
      "JobInvolvement             int64\n",
      "JobLevel                   int64\n",
      "JobSatisfaction            int64\n",
      "NumCompaniesWorked         int64\n",
      "PercentSalaryHike          int64\n",
      "OverTime                   int64\n",
      "dtype: object\n"
     ]
    }
   ],
   "source": [
    "# Convert your X data to numeric data types however you see fit\n",
    "# Add new code cells as necessary\n",
    "\n",
    "# Ensure all data in X_df is numeric\n",
    "X_df = pd.get_dummies(X_df, drop_first=True)\n",
    "\n",
    "# Verify the data types for X_df\n",
    "print(\"Data types for X_df after conversion:\")\n",
    "print(X_df.dtypes)\n"
   ]
  },
  {
   "cell_type": "code",
   "execution_count": 33,
   "metadata": {
    "colab": {
     "base_uri": "https://localhost:8080/"
    },
    "executionInfo": {
     "elapsed": 99,
     "status": "ok",
     "timestamp": 1730699227256,
     "user": {
      "displayName": "Alexander Booth",
      "userId": "02269714993535573104"
     },
     "user_tz": 360
    },
    "id": "-z0Mky8vQSz4",
    "outputId": "5024d63f-7e4e-4a91-fb76-0b2c79c1bcfb"
   },
   "outputs": [
    {
     "name": "stdout",
     "output_type": "stream",
     "text": [
      "Department column successfully encoded.\n",
      "y_train_department_encoded shape: (1176, 3)\n",
      "y_test_department_encoded shape: (294, 3)\n"
     ]
    }
   ],
   "source": [
    "from sklearn.preprocessing import OneHotEncoder\n",
    "\n",
    "# Create a OneHotEncoder for the Department column\n",
    "encoder = OneHotEncoder(sparse_output=False)\n",
    "\n",
    "# Fit the encoder to the training data\n",
    "encoder.fit(y_train[['Department']])\n",
    "\n",
    "# Create two new variables by applying the encoder\n",
    "# to the training and testing data\n",
    "y_train_department_encoded = encoder.transform(y_train[['Department']])\n",
    "y_test_department_encoded = encoder.transform(y_test[['Department']])\n",
    "\n",
    "# Print after success\n",
    "print(\"Department column successfully encoded.\")\n",
    "print(\"y_train_department_encoded shape:\", y_train_department_encoded.shape)\n",
    "print(\"y_test_department_encoded shape:\", y_test_department_encoded.shape)\n"
   ]
  },
  {
   "cell_type": "code",
   "execution_count": 37,
   "metadata": {
    "colab": {
     "base_uri": "https://localhost:8080/"
    },
    "executionInfo": {
     "elapsed": 5,
     "status": "ok",
     "timestamp": 1730699227257,
     "user": {
      "displayName": "Alexander Booth",
      "userId": "02269714993535573104"
     },
     "user_tz": 360
    },
    "id": "-G4DSpvFRrk4",
    "outputId": "1821049e-a4f0-437f-b8a7-e415431fbdb0"
   },
   "outputs": [
    {
     "name": "stdout",
     "output_type": "stream",
     "text": [
      "Attrition column successfully encoded.\n",
      "y_train_attrition_encoded shape: (1176, 2)\n",
      "y_test_attrition_encoded shape: (294, 2)\n"
     ]
    }
   ],
   "source": [
    "from sklearn.preprocessing import OneHotEncoder\n",
    "\n",
    "# Create a OneHotEncoder for the Attrition column\n",
    "attrition_encoder = OneHotEncoder(sparse_output=False)\n",
    "\n",
    "# Fit the encoder to the training data\n",
    "attrition_encoder.fit(y_train[['Attrition']])\n",
    "\n",
    "# Create two new variables by applying the encoder\n",
    "# to the training and testing data\n",
    "y_train_attrition_encoded = attrition_encoder.transform(y_train[['Attrition']])\n",
    "y_test_attrition_encoded = attrition_encoder.transform(y_test[['Attrition']])\n",
    "\n",
    "# Print after success\n",
    "print(\"Attrition column successfully encoded.\")\n",
    "print(\"y_train_attrition_encoded shape:\", y_train_attrition_encoded.shape)\n",
    "print(\"y_test_attrition_encoded shape:\", y_test_attrition_encoded.shape)\n"
   ]
  },
  {
   "cell_type": "markdown",
   "metadata": {
    "id": "ykNmu_WWGc3T"
   },
   "source": [
    "## Part 2: Create, Compile, and Train the Model"
   ]
  },
  {
   "cell_type": "code",
   "execution_count": 39,
   "metadata": {
    "executionInfo": {
     "elapsed": 309,
     "status": "ok",
     "timestamp": 1730699227563,
     "user": {
      "displayName": "Alexander Booth",
      "userId": "02269714993535573104"
     },
     "user_tz": 360
    },
    "id": "WUptZqmSGc3T"
   },
   "outputs": [
    {
     "name": "stdout",
     "output_type": "stream",
     "text": [
      "Number of columns in the X training data: 10\n",
      "Input layer created.\n",
      "Two shared layers created.\n"
     ]
    }
   ],
   "source": [
    "from tensorflow.keras import layers, Input\n",
    "\n",
    "# Find the number of columns in the X training data\n",
    "input_features = X_train.shape[1]\n",
    "print(f\"Number of columns in the X training data: {input_features}\")\n",
    "\n",
    "# Create the input layer\n",
    "input_layer = Input(shape=(input_features,))\n",
    "print(\"Input layer created.\")\n",
    "\n",
    "# Create at least two shared layers\n",
    "shared_layer1 = layers.Dense(128, activation='relu')(input_layer)\n",
    "shared_layer2 = layers.Dense(64, activation='relu')(shared_layer1)\n",
    "print(\"Two shared layers created.\")\n"
   ]
  },
  {
   "cell_type": "code",
   "execution_count": 41,
   "metadata": {
    "executionInfo": {
     "elapsed": 118,
     "status": "ok",
     "timestamp": 1730699227678,
     "user": {
      "displayName": "Alexander Booth",
      "userId": "02269714993535573104"
     },
     "user_tz": 360
    },
    "id": "JukjTm2yTEqd"
   },
   "outputs": [
    {
     "name": "stdout",
     "output_type": "stream",
     "text": [
      "Branch for Department created with a hidden layer and an output layer.\n"
     ]
    }
   ],
   "source": [
    "# Create a branch for Department\n",
    "# with a hidden layer and an output layer\n",
    "\n",
    "# Create the hidden layer\n",
    "department_hidden_layer = layers.Dense(32, activation='relu')(shared_layer2)\n",
    "\n",
    "# Create the output layer\n",
    "department_output_layer = layers.Dense(y_train_department_encoded.shape[1], activation='softmax', name='department_output')(department_hidden_layer)\n",
    "\n",
    "print(\"Branch for Department created with a hidden layer and an output layer.\")\n"
   ]
  },
  {
   "cell_type": "code",
   "execution_count": 43,
   "metadata": {
    "executionInfo": {
     "elapsed": 9,
     "status": "ok",
     "timestamp": 1730699227679,
     "user": {
      "displayName": "Alexander Booth",
      "userId": "02269714993535573104"
     },
     "user_tz": 360
    },
    "id": "9OqhUiOJUBkR"
   },
   "outputs": [
    {
     "name": "stdout",
     "output_type": "stream",
     "text": [
      "Branch for Attrition created with a hidden layer and an output layer.\n"
     ]
    }
   ],
   "source": [
    "# Create a branch for Attrition\n",
    "# with a hidden layer and an output layer\n",
    "\n",
    "# Create the hidden layer\n",
    "attrition_hidden_layer = layers.Dense(32, activation='relu')(shared_layer2)\n",
    "\n",
    "# Create the output layer\n",
    "attrition_output_layer = layers.Dense(1, activation='sigmoid', name='attrition_output')(attrition_hidden_layer)\n",
    "\n",
    "print(\"Branch for Attrition created with a hidden layer and an output layer.\")\n",
    "\n"
   ]
  },
  {
   "cell_type": "code",
   "execution_count": 45,
   "metadata": {
    "colab": {
     "base_uri": "https://localhost:8080/",
     "height": 361
    },
    "executionInfo": {
     "elapsed": 108,
     "status": "ok",
     "timestamp": 1730699227780,
     "user": {
      "displayName": "Alexander Booth",
      "userId": "02269714993535573104"
     },
     "user_tz": 360
    },
    "id": "twmuejdxGc3T",
    "outputId": "dd9ce242-6a66-4709-ba13-4b13551c22e0"
   },
   "outputs": [
    {
     "data": {
      "text/html": [
       "<pre style=\"white-space:pre;overflow-x:auto;line-height:normal;font-family:Menlo,'DejaVu Sans Mono',consolas,'Courier New',monospace\"><span style=\"font-weight: bold\">Model: \"functional\"</span>\n",
       "</pre>\n"
      ],
      "text/plain": [
       "\u001b[1mModel: \"functional\"\u001b[0m\n"
      ]
     },
     "metadata": {},
     "output_type": "display_data"
    },
    {
     "data": {
      "text/html": [
       "<pre style=\"white-space:pre;overflow-x:auto;line-height:normal;font-family:Menlo,'DejaVu Sans Mono',consolas,'Courier New',monospace\">┏━━━━━━━━━━━━━━━━━━━━━━━━━━━━━━━┳━━━━━━━━━━━━━━━━━━━━━━━━━━━┳━━━━━━━━━━━━━━━━━┳━━━━━━━━━━━━━━━━━━━━━━━━━━━━┓\n",
       "┃<span style=\"font-weight: bold\"> Layer (type)                  </span>┃<span style=\"font-weight: bold\"> Output Shape              </span>┃<span style=\"font-weight: bold\">         Param # </span>┃<span style=\"font-weight: bold\"> Connected to               </span>┃\n",
       "┡━━━━━━━━━━━━━━━━━━━━━━━━━━━━━━━╇━━━━━━━━━━━━━━━━━━━━━━━━━━━╇━━━━━━━━━━━━━━━━━╇━━━━━━━━━━━━━━━━━━━━━━━━━━━━┩\n",
       "│ input_layer (<span style=\"color: #0087ff; text-decoration-color: #0087ff\">InputLayer</span>)      │ (<span style=\"color: #00d7ff; text-decoration-color: #00d7ff\">None</span>, <span style=\"color: #00af00; text-decoration-color: #00af00\">10</span>)                │               <span style=\"color: #00af00; text-decoration-color: #00af00\">0</span> │ -                          │\n",
       "├───────────────────────────────┼───────────────────────────┼─────────────────┼────────────────────────────┤\n",
       "│ dense (<span style=\"color: #0087ff; text-decoration-color: #0087ff\">Dense</span>)                 │ (<span style=\"color: #00d7ff; text-decoration-color: #00d7ff\">None</span>, <span style=\"color: #00af00; text-decoration-color: #00af00\">128</span>)               │           <span style=\"color: #00af00; text-decoration-color: #00af00\">1,408</span> │ input_layer[<span style=\"color: #00af00; text-decoration-color: #00af00\">0</span>][<span style=\"color: #00af00; text-decoration-color: #00af00\">0</span>]          │\n",
       "├───────────────────────────────┼───────────────────────────┼─────────────────┼────────────────────────────┤\n",
       "│ dense_1 (<span style=\"color: #0087ff; text-decoration-color: #0087ff\">Dense</span>)               │ (<span style=\"color: #00d7ff; text-decoration-color: #00d7ff\">None</span>, <span style=\"color: #00af00; text-decoration-color: #00af00\">64</span>)                │           <span style=\"color: #00af00; text-decoration-color: #00af00\">8,256</span> │ dense[<span style=\"color: #00af00; text-decoration-color: #00af00\">0</span>][<span style=\"color: #00af00; text-decoration-color: #00af00\">0</span>]                │\n",
       "├───────────────────────────────┼───────────────────────────┼─────────────────┼────────────────────────────┤\n",
       "│ dense_2 (<span style=\"color: #0087ff; text-decoration-color: #0087ff\">Dense</span>)               │ (<span style=\"color: #00d7ff; text-decoration-color: #00d7ff\">None</span>, <span style=\"color: #00af00; text-decoration-color: #00af00\">32</span>)                │           <span style=\"color: #00af00; text-decoration-color: #00af00\">2,080</span> │ dense_1[<span style=\"color: #00af00; text-decoration-color: #00af00\">0</span>][<span style=\"color: #00af00; text-decoration-color: #00af00\">0</span>]              │\n",
       "├───────────────────────────────┼───────────────────────────┼─────────────────┼────────────────────────────┤\n",
       "│ dense_3 (<span style=\"color: #0087ff; text-decoration-color: #0087ff\">Dense</span>)               │ (<span style=\"color: #00d7ff; text-decoration-color: #00d7ff\">None</span>, <span style=\"color: #00af00; text-decoration-color: #00af00\">32</span>)                │           <span style=\"color: #00af00; text-decoration-color: #00af00\">2,080</span> │ dense_1[<span style=\"color: #00af00; text-decoration-color: #00af00\">0</span>][<span style=\"color: #00af00; text-decoration-color: #00af00\">0</span>]              │\n",
       "├───────────────────────────────┼───────────────────────────┼─────────────────┼────────────────────────────┤\n",
       "│ department_output (<span style=\"color: #0087ff; text-decoration-color: #0087ff\">Dense</span>)     │ (<span style=\"color: #00d7ff; text-decoration-color: #00d7ff\">None</span>, <span style=\"color: #00af00; text-decoration-color: #00af00\">3</span>)                 │              <span style=\"color: #00af00; text-decoration-color: #00af00\">99</span> │ dense_2[<span style=\"color: #00af00; text-decoration-color: #00af00\">0</span>][<span style=\"color: #00af00; text-decoration-color: #00af00\">0</span>]              │\n",
       "├───────────────────────────────┼───────────────────────────┼─────────────────┼────────────────────────────┤\n",
       "│ attrition_output (<span style=\"color: #0087ff; text-decoration-color: #0087ff\">Dense</span>)      │ (<span style=\"color: #00d7ff; text-decoration-color: #00d7ff\">None</span>, <span style=\"color: #00af00; text-decoration-color: #00af00\">1</span>)                 │              <span style=\"color: #00af00; text-decoration-color: #00af00\">33</span> │ dense_3[<span style=\"color: #00af00; text-decoration-color: #00af00\">0</span>][<span style=\"color: #00af00; text-decoration-color: #00af00\">0</span>]              │\n",
       "└───────────────────────────────┴───────────────────────────┴─────────────────┴────────────────────────────┘\n",
       "</pre>\n"
      ],
      "text/plain": [
       "┏━━━━━━━━━━━━━━━━━━━━━━━━━━━━━━━┳━━━━━━━━━━━━━━━━━━━━━━━━━━━┳━━━━━━━━━━━━━━━━━┳━━━━━━━━━━━━━━━━━━━━━━━━━━━━┓\n",
       "┃\u001b[1m \u001b[0m\u001b[1mLayer (type)                 \u001b[0m\u001b[1m \u001b[0m┃\u001b[1m \u001b[0m\u001b[1mOutput Shape             \u001b[0m\u001b[1m \u001b[0m┃\u001b[1m \u001b[0m\u001b[1m        Param #\u001b[0m\u001b[1m \u001b[0m┃\u001b[1m \u001b[0m\u001b[1mConnected to              \u001b[0m\u001b[1m \u001b[0m┃\n",
       "┡━━━━━━━━━━━━━━━━━━━━━━━━━━━━━━━╇━━━━━━━━━━━━━━━━━━━━━━━━━━━╇━━━━━━━━━━━━━━━━━╇━━━━━━━━━━━━━━━━━━━━━━━━━━━━┩\n",
       "│ input_layer (\u001b[38;5;33mInputLayer\u001b[0m)      │ (\u001b[38;5;45mNone\u001b[0m, \u001b[38;5;34m10\u001b[0m)                │               \u001b[38;5;34m0\u001b[0m │ -                          │\n",
       "├───────────────────────────────┼───────────────────────────┼─────────────────┼────────────────────────────┤\n",
       "│ dense (\u001b[38;5;33mDense\u001b[0m)                 │ (\u001b[38;5;45mNone\u001b[0m, \u001b[38;5;34m128\u001b[0m)               │           \u001b[38;5;34m1,408\u001b[0m │ input_layer[\u001b[38;5;34m0\u001b[0m][\u001b[38;5;34m0\u001b[0m]          │\n",
       "├───────────────────────────────┼───────────────────────────┼─────────────────┼────────────────────────────┤\n",
       "│ dense_1 (\u001b[38;5;33mDense\u001b[0m)               │ (\u001b[38;5;45mNone\u001b[0m, \u001b[38;5;34m64\u001b[0m)                │           \u001b[38;5;34m8,256\u001b[0m │ dense[\u001b[38;5;34m0\u001b[0m][\u001b[38;5;34m0\u001b[0m]                │\n",
       "├───────────────────────────────┼───────────────────────────┼─────────────────┼────────────────────────────┤\n",
       "│ dense_2 (\u001b[38;5;33mDense\u001b[0m)               │ (\u001b[38;5;45mNone\u001b[0m, \u001b[38;5;34m32\u001b[0m)                │           \u001b[38;5;34m2,080\u001b[0m │ dense_1[\u001b[38;5;34m0\u001b[0m][\u001b[38;5;34m0\u001b[0m]              │\n",
       "├───────────────────────────────┼───────────────────────────┼─────────────────┼────────────────────────────┤\n",
       "│ dense_3 (\u001b[38;5;33mDense\u001b[0m)               │ (\u001b[38;5;45mNone\u001b[0m, \u001b[38;5;34m32\u001b[0m)                │           \u001b[38;5;34m2,080\u001b[0m │ dense_1[\u001b[38;5;34m0\u001b[0m][\u001b[38;5;34m0\u001b[0m]              │\n",
       "├───────────────────────────────┼───────────────────────────┼─────────────────┼────────────────────────────┤\n",
       "│ department_output (\u001b[38;5;33mDense\u001b[0m)     │ (\u001b[38;5;45mNone\u001b[0m, \u001b[38;5;34m3\u001b[0m)                 │              \u001b[38;5;34m99\u001b[0m │ dense_2[\u001b[38;5;34m0\u001b[0m][\u001b[38;5;34m0\u001b[0m]              │\n",
       "├───────────────────────────────┼───────────────────────────┼─────────────────┼────────────────────────────┤\n",
       "│ attrition_output (\u001b[38;5;33mDense\u001b[0m)      │ (\u001b[38;5;45mNone\u001b[0m, \u001b[38;5;34m1\u001b[0m)                 │              \u001b[38;5;34m33\u001b[0m │ dense_3[\u001b[38;5;34m0\u001b[0m][\u001b[38;5;34m0\u001b[0m]              │\n",
       "└───────────────────────────────┴───────────────────────────┴─────────────────┴────────────────────────────┘\n"
      ]
     },
     "metadata": {},
     "output_type": "display_data"
    },
    {
     "data": {
      "text/html": [
       "<pre style=\"white-space:pre;overflow-x:auto;line-height:normal;font-family:Menlo,'DejaVu Sans Mono',consolas,'Courier New',monospace\"><span style=\"font-weight: bold\"> Total params: </span><span style=\"color: #00af00; text-decoration-color: #00af00\">13,956</span> (54.52 KB)\n",
       "</pre>\n"
      ],
      "text/plain": [
       "\u001b[1m Total params: \u001b[0m\u001b[38;5;34m13,956\u001b[0m (54.52 KB)\n"
      ]
     },
     "metadata": {},
     "output_type": "display_data"
    },
    {
     "data": {
      "text/html": [
       "<pre style=\"white-space:pre;overflow-x:auto;line-height:normal;font-family:Menlo,'DejaVu Sans Mono',consolas,'Courier New',monospace\"><span style=\"font-weight: bold\"> Trainable params: </span><span style=\"color: #00af00; text-decoration-color: #00af00\">13,956</span> (54.52 KB)\n",
       "</pre>\n"
      ],
      "text/plain": [
       "\u001b[1m Trainable params: \u001b[0m\u001b[38;5;34m13,956\u001b[0m (54.52 KB)\n"
      ]
     },
     "metadata": {},
     "output_type": "display_data"
    },
    {
     "data": {
      "text/html": [
       "<pre style=\"white-space:pre;overflow-x:auto;line-height:normal;font-family:Menlo,'DejaVu Sans Mono',consolas,'Courier New',monospace\"><span style=\"font-weight: bold\"> Non-trainable params: </span><span style=\"color: #00af00; text-decoration-color: #00af00\">0</span> (0.00 B)\n",
       "</pre>\n"
      ],
      "text/plain": [
       "\u001b[1m Non-trainable params: \u001b[0m\u001b[38;5;34m0\u001b[0m (0.00 B)\n"
      ]
     },
     "metadata": {},
     "output_type": "display_data"
    },
    {
     "name": "stdout",
     "output_type": "stream",
     "text": [
      "Model created, compiled, and summarized successfully.\n"
     ]
    }
   ],
   "source": [
    "from tensorflow.keras.models import Model\n",
    "\n",
    "# Create the model\n",
    "model = Model(inputs=input_layer, outputs=[department_output_layer, attrition_output_layer])\n",
    "\n",
    "# Compile the model\n",
    "model.compile(optimizer='adam',\n",
    "              loss={'department_output': 'categorical_crossentropy', 'attrition_output': 'binary_crossentropy'},\n",
    "              metrics={'department_output': 'accuracy', 'attrition_output': 'accuracy'})\n",
    "\n",
    "# Summarize the model\n",
    "model.summary()\n",
    "\n",
    "print(\"Model created, compiled, and summarized successfully.\")\n"
   ]
  },
  {
   "cell_type": "code",
   "execution_count": 59,
   "metadata": {
    "colab": {
     "base_uri": "https://localhost:8080/"
    },
    "executionInfo": {
     "elapsed": 31740,
     "status": "ok",
     "timestamp": 1730699259517,
     "user": {
      "displayName": "Alexander Booth",
      "userId": "02269714993535573104"
     },
     "user_tz": 360
    },
    "id": "c8oGy0dpGc3U",
    "outputId": "f48a5292-426f-4715-ea6e-381a8e9d5542"
   },
   "outputs": [
    {
     "name": "stdout",
     "output_type": "stream",
     "text": [
      "X_train_np shape: (1176, 10)\n",
      "y_train_department_np shape: (1176, 3)\n",
      "y_train_attrition_np shape: (1176, 1)\n",
      "X_test_np shape: (294, 10)\n",
      "y_test_department_np shape: (294, 3)\n",
      "y_test_attrition_np shape: (294, 1)\n",
      "Checking for missing values...\n",
      "X_train missing: 0\n",
      "y_train_department_np missing: 0\n",
      "y_train_attrition_np missing: 0\n",
      "X_test missing: 0\n",
      "y_test_department_np missing: 0\n",
      "y_test_attrition_np missing: 0\n"
     ]
    },
    {
     "data": {
      "text/html": [
       "<pre style=\"white-space:pre;overflow-x:auto;line-height:normal;font-family:Menlo,'DejaVu Sans Mono',consolas,'Courier New',monospace\"><span style=\"font-weight: bold\">Model: \"functional_1\"</span>\n",
       "</pre>\n"
      ],
      "text/plain": [
       "\u001b[1mModel: \"functional_1\"\u001b[0m\n"
      ]
     },
     "metadata": {},
     "output_type": "display_data"
    },
    {
     "data": {
      "text/html": [
       "<pre style=\"white-space:pre;overflow-x:auto;line-height:normal;font-family:Menlo,'DejaVu Sans Mono',consolas,'Courier New',monospace\">┏━━━━━━━━━━━━━━━━━━━━━━━━━━━━━━━┳━━━━━━━━━━━━━━━━━━━━━━━━━━━┳━━━━━━━━━━━━━━━━━┳━━━━━━━━━━━━━━━━━━━━━━━━━━━━┓\n",
       "┃<span style=\"font-weight: bold\"> Layer (type)                  </span>┃<span style=\"font-weight: bold\"> Output Shape              </span>┃<span style=\"font-weight: bold\">         Param # </span>┃<span style=\"font-weight: bold\"> Connected to               </span>┃\n",
       "┡━━━━━━━━━━━━━━━━━━━━━━━━━━━━━━━╇━━━━━━━━━━━━━━━━━━━━━━━━━━━╇━━━━━━━━━━━━━━━━━╇━━━━━━━━━━━━━━━━━━━━━━━━━━━━┩\n",
       "│ input_layer_1 (<span style=\"color: #0087ff; text-decoration-color: #0087ff\">InputLayer</span>)    │ (<span style=\"color: #00d7ff; text-decoration-color: #00d7ff\">None</span>, <span style=\"color: #00af00; text-decoration-color: #00af00\">10</span>)                │               <span style=\"color: #00af00; text-decoration-color: #00af00\">0</span> │ -                          │\n",
       "├───────────────────────────────┼───────────────────────────┼─────────────────┼────────────────────────────┤\n",
       "│ dense_4 (<span style=\"color: #0087ff; text-decoration-color: #0087ff\">Dense</span>)               │ (<span style=\"color: #00d7ff; text-decoration-color: #00d7ff\">None</span>, <span style=\"color: #00af00; text-decoration-color: #00af00\">128</span>)               │           <span style=\"color: #00af00; text-decoration-color: #00af00\">1,408</span> │ input_layer_1[<span style=\"color: #00af00; text-decoration-color: #00af00\">0</span>][<span style=\"color: #00af00; text-decoration-color: #00af00\">0</span>]        │\n",
       "├───────────────────────────────┼───────────────────────────┼─────────────────┼────────────────────────────┤\n",
       "│ dense_5 (<span style=\"color: #0087ff; text-decoration-color: #0087ff\">Dense</span>)               │ (<span style=\"color: #00d7ff; text-decoration-color: #00d7ff\">None</span>, <span style=\"color: #00af00; text-decoration-color: #00af00\">64</span>)                │           <span style=\"color: #00af00; text-decoration-color: #00af00\">8,256</span> │ dense_4[<span style=\"color: #00af00; text-decoration-color: #00af00\">0</span>][<span style=\"color: #00af00; text-decoration-color: #00af00\">0</span>]              │\n",
       "├───────────────────────────────┼───────────────────────────┼─────────────────┼────────────────────────────┤\n",
       "│ dense_6 (<span style=\"color: #0087ff; text-decoration-color: #0087ff\">Dense</span>)               │ (<span style=\"color: #00d7ff; text-decoration-color: #00d7ff\">None</span>, <span style=\"color: #00af00; text-decoration-color: #00af00\">32</span>)                │           <span style=\"color: #00af00; text-decoration-color: #00af00\">2,080</span> │ dense_5[<span style=\"color: #00af00; text-decoration-color: #00af00\">0</span>][<span style=\"color: #00af00; text-decoration-color: #00af00\">0</span>]              │\n",
       "├───────────────────────────────┼───────────────────────────┼─────────────────┼────────────────────────────┤\n",
       "│ dense_7 (<span style=\"color: #0087ff; text-decoration-color: #0087ff\">Dense</span>)               │ (<span style=\"color: #00d7ff; text-decoration-color: #00d7ff\">None</span>, <span style=\"color: #00af00; text-decoration-color: #00af00\">32</span>)                │           <span style=\"color: #00af00; text-decoration-color: #00af00\">2,080</span> │ dense_5[<span style=\"color: #00af00; text-decoration-color: #00af00\">0</span>][<span style=\"color: #00af00; text-decoration-color: #00af00\">0</span>]              │\n",
       "├───────────────────────────────┼───────────────────────────┼─────────────────┼────────────────────────────┤\n",
       "│ department_output (<span style=\"color: #0087ff; text-decoration-color: #0087ff\">Dense</span>)     │ (<span style=\"color: #00d7ff; text-decoration-color: #00d7ff\">None</span>, <span style=\"color: #00af00; text-decoration-color: #00af00\">3</span>)                 │              <span style=\"color: #00af00; text-decoration-color: #00af00\">99</span> │ dense_6[<span style=\"color: #00af00; text-decoration-color: #00af00\">0</span>][<span style=\"color: #00af00; text-decoration-color: #00af00\">0</span>]              │\n",
       "├───────────────────────────────┼───────────────────────────┼─────────────────┼────────────────────────────┤\n",
       "│ attrition_output (<span style=\"color: #0087ff; text-decoration-color: #0087ff\">Dense</span>)      │ (<span style=\"color: #00d7ff; text-decoration-color: #00d7ff\">None</span>, <span style=\"color: #00af00; text-decoration-color: #00af00\">1</span>)                 │              <span style=\"color: #00af00; text-decoration-color: #00af00\">33</span> │ dense_7[<span style=\"color: #00af00; text-decoration-color: #00af00\">0</span>][<span style=\"color: #00af00; text-decoration-color: #00af00\">0</span>]              │\n",
       "└───────────────────────────────┴───────────────────────────┴─────────────────┴────────────────────────────┘\n",
       "</pre>\n"
      ],
      "text/plain": [
       "┏━━━━━━━━━━━━━━━━━━━━━━━━━━━━━━━┳━━━━━━━━━━━━━━━━━━━━━━━━━━━┳━━━━━━━━━━━━━━━━━┳━━━━━━━━━━━━━━━━━━━━━━━━━━━━┓\n",
       "┃\u001b[1m \u001b[0m\u001b[1mLayer (type)                 \u001b[0m\u001b[1m \u001b[0m┃\u001b[1m \u001b[0m\u001b[1mOutput Shape             \u001b[0m\u001b[1m \u001b[0m┃\u001b[1m \u001b[0m\u001b[1m        Param #\u001b[0m\u001b[1m \u001b[0m┃\u001b[1m \u001b[0m\u001b[1mConnected to              \u001b[0m\u001b[1m \u001b[0m┃\n",
       "┡━━━━━━━━━━━━━━━━━━━━━━━━━━━━━━━╇━━━━━━━━━━━━━━━━━━━━━━━━━━━╇━━━━━━━━━━━━━━━━━╇━━━━━━━━━━━━━━━━━━━━━━━━━━━━┩\n",
       "│ input_layer_1 (\u001b[38;5;33mInputLayer\u001b[0m)    │ (\u001b[38;5;45mNone\u001b[0m, \u001b[38;5;34m10\u001b[0m)                │               \u001b[38;5;34m0\u001b[0m │ -                          │\n",
       "├───────────────────────────────┼───────────────────────────┼─────────────────┼────────────────────────────┤\n",
       "│ dense_4 (\u001b[38;5;33mDense\u001b[0m)               │ (\u001b[38;5;45mNone\u001b[0m, \u001b[38;5;34m128\u001b[0m)               │           \u001b[38;5;34m1,408\u001b[0m │ input_layer_1[\u001b[38;5;34m0\u001b[0m][\u001b[38;5;34m0\u001b[0m]        │\n",
       "├───────────────────────────────┼───────────────────────────┼─────────────────┼────────────────────────────┤\n",
       "│ dense_5 (\u001b[38;5;33mDense\u001b[0m)               │ (\u001b[38;5;45mNone\u001b[0m, \u001b[38;5;34m64\u001b[0m)                │           \u001b[38;5;34m8,256\u001b[0m │ dense_4[\u001b[38;5;34m0\u001b[0m][\u001b[38;5;34m0\u001b[0m]              │\n",
       "├───────────────────────────────┼───────────────────────────┼─────────────────┼────────────────────────────┤\n",
       "│ dense_6 (\u001b[38;5;33mDense\u001b[0m)               │ (\u001b[38;5;45mNone\u001b[0m, \u001b[38;5;34m32\u001b[0m)                │           \u001b[38;5;34m2,080\u001b[0m │ dense_5[\u001b[38;5;34m0\u001b[0m][\u001b[38;5;34m0\u001b[0m]              │\n",
       "├───────────────────────────────┼───────────────────────────┼─────────────────┼────────────────────────────┤\n",
       "│ dense_7 (\u001b[38;5;33mDense\u001b[0m)               │ (\u001b[38;5;45mNone\u001b[0m, \u001b[38;5;34m32\u001b[0m)                │           \u001b[38;5;34m2,080\u001b[0m │ dense_5[\u001b[38;5;34m0\u001b[0m][\u001b[38;5;34m0\u001b[0m]              │\n",
       "├───────────────────────────────┼───────────────────────────┼─────────────────┼────────────────────────────┤\n",
       "│ department_output (\u001b[38;5;33mDense\u001b[0m)     │ (\u001b[38;5;45mNone\u001b[0m, \u001b[38;5;34m3\u001b[0m)                 │              \u001b[38;5;34m99\u001b[0m │ dense_6[\u001b[38;5;34m0\u001b[0m][\u001b[38;5;34m0\u001b[0m]              │\n",
       "├───────────────────────────────┼───────────────────────────┼─────────────────┼────────────────────────────┤\n",
       "│ attrition_output (\u001b[38;5;33mDense\u001b[0m)      │ (\u001b[38;5;45mNone\u001b[0m, \u001b[38;5;34m1\u001b[0m)                 │              \u001b[38;5;34m33\u001b[0m │ dense_7[\u001b[38;5;34m0\u001b[0m][\u001b[38;5;34m0\u001b[0m]              │\n",
       "└───────────────────────────────┴───────────────────────────┴─────────────────┴────────────────────────────┘\n"
      ]
     },
     "metadata": {},
     "output_type": "display_data"
    },
    {
     "data": {
      "text/html": [
       "<pre style=\"white-space:pre;overflow-x:auto;line-height:normal;font-family:Menlo,'DejaVu Sans Mono',consolas,'Courier New',monospace\"><span style=\"font-weight: bold\"> Total params: </span><span style=\"color: #00af00; text-decoration-color: #00af00\">13,956</span> (54.52 KB)\n",
       "</pre>\n"
      ],
      "text/plain": [
       "\u001b[1m Total params: \u001b[0m\u001b[38;5;34m13,956\u001b[0m (54.52 KB)\n"
      ]
     },
     "metadata": {},
     "output_type": "display_data"
    },
    {
     "data": {
      "text/html": [
       "<pre style=\"white-space:pre;overflow-x:auto;line-height:normal;font-family:Menlo,'DejaVu Sans Mono',consolas,'Courier New',monospace\"><span style=\"font-weight: bold\"> Trainable params: </span><span style=\"color: #00af00; text-decoration-color: #00af00\">13,956</span> (54.52 KB)\n",
       "</pre>\n"
      ],
      "text/plain": [
       "\u001b[1m Trainable params: \u001b[0m\u001b[38;5;34m13,956\u001b[0m (54.52 KB)\n"
      ]
     },
     "metadata": {},
     "output_type": "display_data"
    },
    {
     "data": {
      "text/html": [
       "<pre style=\"white-space:pre;overflow-x:auto;line-height:normal;font-family:Menlo,'DejaVu Sans Mono',consolas,'Courier New',monospace\"><span style=\"font-weight: bold\"> Non-trainable params: </span><span style=\"color: #00af00; text-decoration-color: #00af00\">0</span> (0.00 B)\n",
       "</pre>\n"
      ],
      "text/plain": [
       "\u001b[1m Non-trainable params: \u001b[0m\u001b[38;5;34m0\u001b[0m (0.00 B)\n"
      ]
     },
     "metadata": {},
     "output_type": "display_data"
    },
    {
     "name": "stdout",
     "output_type": "stream",
     "text": [
      "Epoch 1/50\n",
      "\u001b[1m37/37\u001b[0m \u001b[32m━━━━━━━━━━━━━━━━━━━━\u001b[0m\u001b[37m\u001b[0m \u001b[1m7s\u001b[0m 23ms/step - attrition_output_accuracy: 0.7113 - attrition_output_loss: 0.7702 - department_output_accuracy: 0.5078 - department_output_loss: 1.3276 - loss: 2.0979 - val_attrition_output_accuracy: 0.8673 - val_attrition_output_loss: 0.3699 - val_department_output_accuracy: 0.6667 - val_department_output_loss: 0.7816 - val_loss: 1.1775\n",
      "Epoch 2/50\n",
      "\u001b[1m37/37\u001b[0m \u001b[32m━━━━━━━━━━━━━━━━━━━━\u001b[0m\u001b[37m\u001b[0m \u001b[1m0s\u001b[0m 7ms/step - attrition_output_accuracy: 0.8360 - attrition_output_loss: 0.4433 - department_output_accuracy: 0.6601 - department_output_loss: 0.7969 - loss: 1.2402 - val_attrition_output_accuracy: 0.8639 - val_attrition_output_loss: 0.3591 - val_department_output_accuracy: 0.6667 - val_department_output_loss: 0.7646 - val_loss: 1.1474\n",
      "Epoch 3/50\n",
      "\u001b[1m37/37\u001b[0m \u001b[32m━━━━━━━━━━━━━━━━━━━━\u001b[0m\u001b[37m\u001b[0m \u001b[1m0s\u001b[0m 7ms/step - attrition_output_accuracy: 0.8508 - attrition_output_loss: 0.4122 - department_output_accuracy: 0.6440 - department_output_loss: 0.7750 - loss: 1.1873 - val_attrition_output_accuracy: 0.8639 - val_attrition_output_loss: 0.3539 - val_department_output_accuracy: 0.6633 - val_department_output_loss: 0.7790 - val_loss: 1.1497\n",
      "Epoch 4/50\n",
      "\u001b[1m37/37\u001b[0m \u001b[32m━━━━━━━━━━━━━━━━━━━━\u001b[0m\u001b[37m\u001b[0m \u001b[1m0s\u001b[0m 7ms/step - attrition_output_accuracy: 0.8215 - attrition_output_loss: 0.4369 - department_output_accuracy: 0.6505 - department_output_loss: 0.7831 - loss: 1.2201 - val_attrition_output_accuracy: 0.8673 - val_attrition_output_loss: 0.3418 - val_department_output_accuracy: 0.6667 - val_department_output_loss: 0.7621 - val_loss: 1.1293\n",
      "Epoch 5/50\n",
      "\u001b[1m37/37\u001b[0m \u001b[32m━━━━━━━━━━━━━━━━━━━━\u001b[0m\u001b[37m\u001b[0m \u001b[1m0s\u001b[0m 7ms/step - attrition_output_accuracy: 0.8197 - attrition_output_loss: 0.4380 - department_output_accuracy: 0.6512 - department_output_loss: 0.7953 - loss: 1.2333 - val_attrition_output_accuracy: 0.8639 - val_attrition_output_loss: 0.3914 - val_department_output_accuracy: 0.6667 - val_department_output_loss: 0.7798 - val_loss: 1.1867\n",
      "Epoch 6/50\n",
      "\u001b[1m37/37\u001b[0m \u001b[32m━━━━━━━━━━━━━━━━━━━━\u001b[0m\u001b[37m\u001b[0m \u001b[1m0s\u001b[0m 9ms/step - attrition_output_accuracy: 0.8204 - attrition_output_loss: 0.4249 - department_output_accuracy: 0.6609 - department_output_loss: 0.7883 - loss: 1.2133 - val_attrition_output_accuracy: 0.8673 - val_attrition_output_loss: 0.3376 - val_department_output_accuracy: 0.6565 - val_department_output_loss: 0.7817 - val_loss: 1.1448\n",
      "Epoch 7/50\n",
      "\u001b[1m37/37\u001b[0m \u001b[32m━━━━━━━━━━━━━━━━━━━━\u001b[0m\u001b[37m\u001b[0m \u001b[1m0s\u001b[0m 12ms/step - attrition_output_accuracy: 0.8194 - attrition_output_loss: 0.4363 - department_output_accuracy: 0.6360 - department_output_loss: 0.7996 - loss: 1.2359 - val_attrition_output_accuracy: 0.8673 - val_attrition_output_loss: 0.3392 - val_department_output_accuracy: 0.5510 - val_department_output_loss: 0.8095 - val_loss: 1.1779\n",
      "Epoch 8/50\n",
      "\u001b[1m37/37\u001b[0m \u001b[32m━━━━━━━━━━━━━━━━━━━━\u001b[0m\u001b[37m\u001b[0m \u001b[1m1s\u001b[0m 13ms/step - attrition_output_accuracy: 0.8502 - attrition_output_loss: 0.3795 - department_output_accuracy: 0.6317 - department_output_loss: 0.7794 - loss: 1.1589 - val_attrition_output_accuracy: 0.8503 - val_attrition_output_loss: 0.3577 - val_department_output_accuracy: 0.6633 - val_department_output_loss: 0.7655 - val_loss: 1.1397\n",
      "Epoch 9/50\n",
      "\u001b[1m37/37\u001b[0m \u001b[32m━━━━━━━━━━━━━━━━━━━━\u001b[0m\u001b[37m\u001b[0m \u001b[1m1s\u001b[0m 16ms/step - attrition_output_accuracy: 0.8514 - attrition_output_loss: 0.3785 - department_output_accuracy: 0.6465 - department_output_loss: 0.7857 - loss: 1.1642 - val_attrition_output_accuracy: 0.8605 - val_attrition_output_loss: 0.3440 - val_department_output_accuracy: 0.6463 - val_department_output_loss: 0.7647 - val_loss: 1.1267\n",
      "Epoch 10/50\n",
      "\u001b[1m37/37\u001b[0m \u001b[32m━━━━━━━━━━━━━━━━━━━━\u001b[0m\u001b[37m\u001b[0m \u001b[1m1s\u001b[0m 19ms/step - attrition_output_accuracy: 0.8435 - attrition_output_loss: 0.3779 - department_output_accuracy: 0.6617 - department_output_loss: 0.7601 - loss: 1.1381 - val_attrition_output_accuracy: 0.8503 - val_attrition_output_loss: 0.3585 - val_department_output_accuracy: 0.6599 - val_department_output_loss: 0.7756 - val_loss: 1.1541\n",
      "Epoch 11/50\n",
      "\u001b[1m37/37\u001b[0m \u001b[32m━━━━━━━━━━━━━━━━━━━━\u001b[0m\u001b[37m\u001b[0m \u001b[1m1s\u001b[0m 21ms/step - attrition_output_accuracy: 0.8661 - attrition_output_loss: 0.3650 - department_output_accuracy: 0.6677 - department_output_loss: 0.7575 - loss: 1.1225 - val_attrition_output_accuracy: 0.8537 - val_attrition_output_loss: 0.3694 - val_department_output_accuracy: 0.6633 - val_department_output_loss: 0.7671 - val_loss: 1.1546\n",
      "Epoch 12/50\n",
      "\u001b[1m37/37\u001b[0m \u001b[32m━━━━━━━━━━━━━━━━━━━━\u001b[0m\u001b[37m\u001b[0m \u001b[1m1s\u001b[0m 19ms/step - attrition_output_accuracy: 0.8544 - attrition_output_loss: 0.3609 - department_output_accuracy: 0.6526 - department_output_loss: 0.7793 - loss: 1.1403 - val_attrition_output_accuracy: 0.8469 - val_attrition_output_loss: 0.3585 - val_department_output_accuracy: 0.6599 - val_department_output_loss: 0.7569 - val_loss: 1.1336\n",
      "Epoch 13/50\n",
      "\u001b[1m37/37\u001b[0m \u001b[32m━━━━━━━━━━━━━━━━━━━━\u001b[0m\u001b[37m\u001b[0m \u001b[1m1s\u001b[0m 12ms/step - attrition_output_accuracy: 0.8581 - attrition_output_loss: 0.3602 - department_output_accuracy: 0.6166 - department_output_loss: 0.7823 - loss: 1.1425 - val_attrition_output_accuracy: 0.8571 - val_attrition_output_loss: 0.3527 - val_department_output_accuracy: 0.6633 - val_department_output_loss: 0.7794 - val_loss: 1.1451\n",
      "Epoch 14/50\n",
      "\u001b[1m37/37\u001b[0m \u001b[32m━━━━━━━━━━━━━━━━━━━━\u001b[0m\u001b[37m\u001b[0m \u001b[1m1s\u001b[0m 14ms/step - attrition_output_accuracy: 0.8555 - attrition_output_loss: 0.3600 - department_output_accuracy: 0.6611 - department_output_loss: 0.7640 - loss: 1.1239 - val_attrition_output_accuracy: 0.8639 - val_attrition_output_loss: 0.3412 - val_department_output_accuracy: 0.6633 - val_department_output_loss: 0.7545 - val_loss: 1.1188\n",
      "Epoch 15/50\n",
      "\u001b[1m37/37\u001b[0m \u001b[32m━━━━━━━━━━━━━━━━━━━━\u001b[0m\u001b[37m\u001b[0m \u001b[1m0s\u001b[0m 10ms/step - attrition_output_accuracy: 0.8603 - attrition_output_loss: 0.3605 - department_output_accuracy: 0.6608 - department_output_loss: 0.7439 - loss: 1.1045 - val_attrition_output_accuracy: 0.8639 - val_attrition_output_loss: 0.3341 - val_department_output_accuracy: 0.6633 - val_department_output_loss: 0.7564 - val_loss: 1.1125\n",
      "Epoch 16/50\n",
      "\u001b[1m37/37\u001b[0m \u001b[32m━━━━━━━━━━━━━━━━━━━━\u001b[0m\u001b[37m\u001b[0m \u001b[1m1s\u001b[0m 14ms/step - attrition_output_accuracy: 0.8536 - attrition_output_loss: 0.3784 - department_output_accuracy: 0.6588 - department_output_loss: 0.7694 - loss: 1.1478 - val_attrition_output_accuracy: 0.8571 - val_attrition_output_loss: 0.3308 - val_department_output_accuracy: 0.6667 - val_department_output_loss: 0.7533 - val_loss: 1.1071\n",
      "Epoch 17/50\n",
      "\u001b[1m37/37\u001b[0m \u001b[32m━━━━━━━━━━━━━━━━━━━━\u001b[0m\u001b[37m\u001b[0m \u001b[1m0s\u001b[0m 10ms/step - attrition_output_accuracy: 0.8746 - attrition_output_loss: 0.3296 - department_output_accuracy: 0.6335 - department_output_loss: 0.7933 - loss: 1.1229 - val_attrition_output_accuracy: 0.8707 - val_attrition_output_loss: 0.3396 - val_department_output_accuracy: 0.6667 - val_department_output_loss: 0.7619 - val_loss: 1.1285\n",
      "Epoch 18/50\n",
      "\u001b[1m37/37\u001b[0m \u001b[32m━━━━━━━━━━━━━━━━━━━━\u001b[0m\u001b[37m\u001b[0m \u001b[1m0s\u001b[0m 9ms/step - attrition_output_accuracy: 0.8560 - attrition_output_loss: 0.3390 - department_output_accuracy: 0.6599 - department_output_loss: 0.7529 - loss: 1.0918 - val_attrition_output_accuracy: 0.8639 - val_attrition_output_loss: 0.3384 - val_department_output_accuracy: 0.6463 - val_department_output_loss: 0.7726 - val_loss: 1.1372\n",
      "Epoch 19/50\n",
      "\u001b[1m37/37\u001b[0m \u001b[32m━━━━━━━━━━━━━━━━━━━━\u001b[0m\u001b[37m\u001b[0m \u001b[1m1s\u001b[0m 16ms/step - attrition_output_accuracy: 0.8421 - attrition_output_loss: 0.3812 - department_output_accuracy: 0.6506 - department_output_loss: 0.7664 - loss: 1.1476 - val_attrition_output_accuracy: 0.8571 - val_attrition_output_loss: 0.3404 - val_department_output_accuracy: 0.6633 - val_department_output_loss: 0.7548 - val_loss: 1.1105\n",
      "Epoch 20/50\n",
      "\u001b[1m37/37\u001b[0m \u001b[32m━━━━━━━━━━━━━━━━━━━━\u001b[0m\u001b[37m\u001b[0m \u001b[1m0s\u001b[0m 10ms/step - attrition_output_accuracy: 0.8720 - attrition_output_loss: 0.3336 - department_output_accuracy: 0.6482 - department_output_loss: 0.7534 - loss: 1.0870 - val_attrition_output_accuracy: 0.8673 - val_attrition_output_loss: 0.3441 - val_department_output_accuracy: 0.6463 - val_department_output_loss: 0.7776 - val_loss: 1.1467\n",
      "Epoch 21/50\n",
      "\u001b[1m37/37\u001b[0m \u001b[32m━━━━━━━━━━━━━━━━━━━━\u001b[0m\u001b[37m\u001b[0m \u001b[1m0s\u001b[0m 10ms/step - attrition_output_accuracy: 0.8694 - attrition_output_loss: 0.3404 - department_output_accuracy: 0.6475 - department_output_loss: 0.7908 - loss: 1.1312 - val_attrition_output_accuracy: 0.8231 - val_attrition_output_loss: 0.3759 - val_department_output_accuracy: 0.6565 - val_department_output_loss: 0.7565 - val_loss: 1.1584\n",
      "Epoch 22/50\n",
      "\u001b[1m37/37\u001b[0m \u001b[32m━━━━━━━━━━━━━━━━━━━━\u001b[0m\u001b[37m\u001b[0m \u001b[1m0s\u001b[0m 8ms/step - attrition_output_accuracy: 0.8583 - attrition_output_loss: 0.3790 - department_output_accuracy: 0.6501 - department_output_loss: 0.7500 - loss: 1.1290 - val_attrition_output_accuracy: 0.8707 - val_attrition_output_loss: 0.3472 - val_department_output_accuracy: 0.6565 - val_department_output_loss: 0.7658 - val_loss: 1.1315\n",
      "Epoch 23/50\n",
      "\u001b[1m37/37\u001b[0m \u001b[32m━━━━━━━━━━━━━━━━━━━━\u001b[0m\u001b[37m\u001b[0m \u001b[1m0s\u001b[0m 11ms/step - attrition_output_accuracy: 0.8496 - attrition_output_loss: 0.3715 - department_output_accuracy: 0.6253 - department_output_loss: 0.7879 - loss: 1.1595 - val_attrition_output_accuracy: 0.8639 - val_attrition_output_loss: 0.3490 - val_department_output_accuracy: 0.6599 - val_department_output_loss: 0.7513 - val_loss: 1.1280\n",
      "Epoch 24/50\n",
      "\u001b[1m37/37\u001b[0m \u001b[32m━━━━━━━━━━━━━━━━━━━━\u001b[0m\u001b[37m\u001b[0m \u001b[1m0s\u001b[0m 11ms/step - attrition_output_accuracy: 0.8726 - attrition_output_loss: 0.3427 - department_output_accuracy: 0.6634 - department_output_loss: 0.7422 - loss: 1.0849 - val_attrition_output_accuracy: 0.8639 - val_attrition_output_loss: 0.3455 - val_department_output_accuracy: 0.6463 - val_department_output_loss: 0.7620 - val_loss: 1.1292\n",
      "Epoch 25/50\n",
      "\u001b[1m37/37\u001b[0m \u001b[32m━━━━━━━━━━━━━━━━━━━━\u001b[0m\u001b[37m\u001b[0m \u001b[1m0s\u001b[0m 12ms/step - attrition_output_accuracy: 0.8754 - attrition_output_loss: 0.3246 - department_output_accuracy: 0.6624 - department_output_loss: 0.7244 - loss: 1.0491 - val_attrition_output_accuracy: 0.8503 - val_attrition_output_loss: 0.3501 - val_department_output_accuracy: 0.6565 - val_department_output_loss: 0.7671 - val_loss: 1.1337\n",
      "Epoch 26/50\n",
      "\u001b[1m37/37\u001b[0m \u001b[32m━━━━━━━━━━━━━━━━━━━━\u001b[0m\u001b[37m\u001b[0m \u001b[1m0s\u001b[0m 9ms/step - attrition_output_accuracy: 0.8783 - attrition_output_loss: 0.3180 - department_output_accuracy: 0.6502 - department_output_loss: 0.7548 - loss: 1.0728 - val_attrition_output_accuracy: 0.8435 - val_attrition_output_loss: 0.3553 - val_department_output_accuracy: 0.6633 - val_department_output_loss: 0.7534 - val_loss: 1.1270\n",
      "Epoch 27/50\n",
      "\u001b[1m37/37\u001b[0m \u001b[32m━━━━━━━━━━━━━━━━━━━━\u001b[0m\u001b[37m\u001b[0m \u001b[1m0s\u001b[0m 8ms/step - attrition_output_accuracy: 0.8758 - attrition_output_loss: 0.3429 - department_output_accuracy: 0.6569 - department_output_loss: 0.7517 - loss: 1.0946 - val_attrition_output_accuracy: 0.8673 - val_attrition_output_loss: 0.3375 - val_department_output_accuracy: 0.6599 - val_department_output_loss: 0.7564 - val_loss: 1.1181\n",
      "Epoch 28/50\n",
      "\u001b[1m37/37\u001b[0m \u001b[32m━━━━━━━━━━━━━━━━━━━━\u001b[0m\u001b[37m\u001b[0m \u001b[1m0s\u001b[0m 9ms/step - attrition_output_accuracy: 0.8830 - attrition_output_loss: 0.3194 - department_output_accuracy: 0.6695 - department_output_loss: 0.7442 - loss: 1.0638 - val_attrition_output_accuracy: 0.8673 - val_attrition_output_loss: 0.3371 - val_department_output_accuracy: 0.6565 - val_department_output_loss: 0.7638 - val_loss: 1.1314\n",
      "Epoch 29/50\n",
      "\u001b[1m37/37\u001b[0m \u001b[32m━━━━━━━━━━━━━━━━━━━━\u001b[0m\u001b[37m\u001b[0m \u001b[1m0s\u001b[0m 8ms/step - attrition_output_accuracy: 0.8713 - attrition_output_loss: 0.3522 - department_output_accuracy: 0.6478 - department_output_loss: 0.7686 - loss: 1.1208 - val_attrition_output_accuracy: 0.8537 - val_attrition_output_loss: 0.3461 - val_department_output_accuracy: 0.6633 - val_department_output_loss: 0.7638 - val_loss: 1.1315\n",
      "Epoch 30/50\n",
      "\u001b[1m37/37\u001b[0m \u001b[32m━━━━━━━━━━━━━━━━━━━━\u001b[0m\u001b[37m\u001b[0m \u001b[1m0s\u001b[0m 7ms/step - attrition_output_accuracy: 0.8689 - attrition_output_loss: 0.3453 - department_output_accuracy: 0.6677 - department_output_loss: 0.7282 - loss: 1.0735 - val_attrition_output_accuracy: 0.8605 - val_attrition_output_loss: 0.3412 - val_department_output_accuracy: 0.6327 - val_department_output_loss: 0.7794 - val_loss: 1.1475\n",
      "Epoch 31/50\n",
      "\u001b[1m37/37\u001b[0m \u001b[32m━━━━━━━━━━━━━━━━━━━━\u001b[0m\u001b[37m\u001b[0m \u001b[1m0s\u001b[0m 7ms/step - attrition_output_accuracy: 0.8552 - attrition_output_loss: 0.3724 - department_output_accuracy: 0.6751 - department_output_loss: 0.7387 - loss: 1.1110 - val_attrition_output_accuracy: 0.8605 - val_attrition_output_loss: 0.3483 - val_department_output_accuracy: 0.6531 - val_department_output_loss: 0.7651 - val_loss: 1.1410\n",
      "Epoch 32/50\n",
      "\u001b[1m37/37\u001b[0m \u001b[32m━━━━━━━━━━━━━━━━━━━━\u001b[0m\u001b[37m\u001b[0m \u001b[1m0s\u001b[0m 7ms/step - attrition_output_accuracy: 0.8453 - attrition_output_loss: 0.3733 - department_output_accuracy: 0.6536 - department_output_loss: 0.7310 - loss: 1.1043 - val_attrition_output_accuracy: 0.8503 - val_attrition_output_loss: 0.3436 - val_department_output_accuracy: 0.6565 - val_department_output_loss: 0.7510 - val_loss: 1.1185\n",
      "Epoch 33/50\n",
      "\u001b[1m37/37\u001b[0m \u001b[32m━━━━━━━━━━━━━━━━━━━━\u001b[0m\u001b[37m\u001b[0m \u001b[1m0s\u001b[0m 8ms/step - attrition_output_accuracy: 0.8666 - attrition_output_loss: 0.3500 - department_output_accuracy: 0.6613 - department_output_loss: 0.7440 - loss: 1.0940 - val_attrition_output_accuracy: 0.8333 - val_attrition_output_loss: 0.3666 - val_department_output_accuracy: 0.6565 - val_department_output_loss: 0.7469 - val_loss: 1.1413\n",
      "Epoch 34/50\n",
      "\u001b[1m37/37\u001b[0m \u001b[32m━━━━━━━━━━━━━━━━━━━━\u001b[0m\u001b[37m\u001b[0m \u001b[1m0s\u001b[0m 8ms/step - attrition_output_accuracy: 0.8774 - attrition_output_loss: 0.3417 - department_output_accuracy: 0.6674 - department_output_loss: 0.7386 - loss: 1.0803 - val_attrition_output_accuracy: 0.8197 - val_attrition_output_loss: 0.3711 - val_department_output_accuracy: 0.6667 - val_department_output_loss: 0.7572 - val_loss: 1.1486\n",
      "Epoch 35/50\n",
      "\u001b[1m37/37\u001b[0m \u001b[32m━━━━━━━━━━━━━━━━━━━━\u001b[0m\u001b[37m\u001b[0m \u001b[1m0s\u001b[0m 7ms/step - attrition_output_accuracy: 0.8811 - attrition_output_loss: 0.3288 - department_output_accuracy: 0.6532 - department_output_loss: 0.7407 - loss: 1.0695 - val_attrition_output_accuracy: 0.8265 - val_attrition_output_loss: 0.3700 - val_department_output_accuracy: 0.6599 - val_department_output_loss: 0.7426 - val_loss: 1.1353\n",
      "Epoch 36/50\n",
      "\u001b[1m37/37\u001b[0m \u001b[32m━━━━━━━━━━━━━━━━━━━━\u001b[0m\u001b[37m\u001b[0m \u001b[1m0s\u001b[0m 6ms/step - attrition_output_accuracy: 0.8756 - attrition_output_loss: 0.3353 - department_output_accuracy: 0.6493 - department_output_loss: 0.7232 - loss: 1.0586 - val_attrition_output_accuracy: 0.8639 - val_attrition_output_loss: 0.3425 - val_department_output_accuracy: 0.6599 - val_department_output_loss: 0.7468 - val_loss: 1.1126\n",
      "Epoch 37/50\n",
      "\u001b[1m37/37\u001b[0m \u001b[32m━━━━━━━━━━━━━━━━━━━━\u001b[0m\u001b[37m\u001b[0m \u001b[1m0s\u001b[0m 6ms/step - attrition_output_accuracy: 0.8794 - attrition_output_loss: 0.3282 - department_output_accuracy: 0.6377 - department_output_loss: 0.7574 - loss: 1.0856 - val_attrition_output_accuracy: 0.8639 - val_attrition_output_loss: 0.3391 - val_department_output_accuracy: 0.6599 - val_department_output_loss: 0.7434 - val_loss: 1.1075\n",
      "Epoch 38/50\n",
      "\u001b[1m37/37\u001b[0m \u001b[32m━━━━━━━━━━━━━━━━━━━━\u001b[0m\u001b[37m\u001b[0m \u001b[1m0s\u001b[0m 7ms/step - attrition_output_accuracy: 0.8756 - attrition_output_loss: 0.3301 - department_output_accuracy: 0.6657 - department_output_loss: 0.7340 - loss: 1.0641 - val_attrition_output_accuracy: 0.8469 - val_attrition_output_loss: 0.3518 - val_department_output_accuracy: 0.6599 - val_department_output_loss: 0.7433 - val_loss: 1.1269\n",
      "Epoch 39/50\n",
      "\u001b[1m37/37\u001b[0m \u001b[32m━━━━━━━━━━━━━━━━━━━━\u001b[0m\u001b[37m\u001b[0m \u001b[1m0s\u001b[0m 6ms/step - attrition_output_accuracy: 0.8744 - attrition_output_loss: 0.3258 - department_output_accuracy: 0.6793 - department_output_loss: 0.7220 - loss: 1.0479 - val_attrition_output_accuracy: 0.8605 - val_attrition_output_loss: 0.3428 - val_department_output_accuracy: 0.6599 - val_department_output_loss: 0.7401 - val_loss: 1.1085\n",
      "Epoch 40/50\n",
      "\u001b[1m37/37\u001b[0m \u001b[32m━━━━━━━━━━━━━━━━━━━━\u001b[0m\u001b[37m\u001b[0m \u001b[1m0s\u001b[0m 7ms/step - attrition_output_accuracy: 0.8642 - attrition_output_loss: 0.3367 - department_output_accuracy: 0.6528 - department_output_loss: 0.7286 - loss: 1.0653 - val_attrition_output_accuracy: 0.8503 - val_attrition_output_loss: 0.3567 - val_department_output_accuracy: 0.6497 - val_department_output_loss: 0.7738 - val_loss: 1.1527\n",
      "Epoch 41/50\n",
      "\u001b[1m37/37\u001b[0m \u001b[32m━━━━━━━━━━━━━━━━━━━━\u001b[0m\u001b[37m\u001b[0m \u001b[1m0s\u001b[0m 8ms/step - attrition_output_accuracy: 0.8658 - attrition_output_loss: 0.3341 - department_output_accuracy: 0.6632 - department_output_loss: 0.7299 - loss: 1.0639 - val_attrition_output_accuracy: 0.8401 - val_attrition_output_loss: 0.3562 - val_department_output_accuracy: 0.6463 - val_department_output_loss: 0.7478 - val_loss: 1.1194\n",
      "Epoch 42/50\n",
      "\u001b[1m37/37\u001b[0m \u001b[32m━━━━━━━━━━━━━━━━━━━━\u001b[0m\u001b[37m\u001b[0m \u001b[1m0s\u001b[0m 7ms/step - attrition_output_accuracy: 0.8766 - attrition_output_loss: 0.3142 - department_output_accuracy: 0.6777 - department_output_loss: 0.7149 - loss: 1.0291 - val_attrition_output_accuracy: 0.8469 - val_attrition_output_loss: 0.3501 - val_department_output_accuracy: 0.6599 - val_department_output_loss: 0.7487 - val_loss: 1.1098\n",
      "Epoch 43/50\n",
      "\u001b[1m37/37\u001b[0m \u001b[32m━━━━━━━━━━━━━━━━━━━━\u001b[0m\u001b[37m\u001b[0m \u001b[1m0s\u001b[0m 8ms/step - attrition_output_accuracy: 0.8898 - attrition_output_loss: 0.3223 - department_output_accuracy: 0.6631 - department_output_loss: 0.7430 - loss: 1.0655 - val_attrition_output_accuracy: 0.8707 - val_attrition_output_loss: 0.3441 - val_department_output_accuracy: 0.6429 - val_department_output_loss: 0.7489 - val_loss: 1.1224\n",
      "Epoch 44/50\n",
      "\u001b[1m37/37\u001b[0m \u001b[32m━━━━━━━━━━━━━━━━━━━━\u001b[0m\u001b[37m\u001b[0m \u001b[1m0s\u001b[0m 9ms/step - attrition_output_accuracy: 0.8669 - attrition_output_loss: 0.3439 - department_output_accuracy: 0.6661 - department_output_loss: 0.7331 - loss: 1.0770 - val_attrition_output_accuracy: 0.8605 - val_attrition_output_loss: 0.3528 - val_department_output_accuracy: 0.6497 - val_department_output_loss: 0.7444 - val_loss: 1.1216\n",
      "Epoch 45/50\n",
      "\u001b[1m37/37\u001b[0m \u001b[32m━━━━━━━━━━━━━━━━━━━━\u001b[0m\u001b[37m\u001b[0m \u001b[1m0s\u001b[0m 7ms/step - attrition_output_accuracy: 0.8693 - attrition_output_loss: 0.3435 - department_output_accuracy: 0.6718 - department_output_loss: 0.7108 - loss: 1.0542 - val_attrition_output_accuracy: 0.8673 - val_attrition_output_loss: 0.3444 - val_department_output_accuracy: 0.6463 - val_department_output_loss: 0.7448 - val_loss: 1.1212\n",
      "Epoch 46/50\n",
      "\u001b[1m37/37\u001b[0m \u001b[32m━━━━━━━━━━━━━━━━━━━━\u001b[0m\u001b[37m\u001b[0m \u001b[1m0s\u001b[0m 7ms/step - attrition_output_accuracy: 0.8705 - attrition_output_loss: 0.3289 - department_output_accuracy: 0.6798 - department_output_loss: 0.7088 - loss: 1.0376 - val_attrition_output_accuracy: 0.8537 - val_attrition_output_loss: 0.3441 - val_department_output_accuracy: 0.6327 - val_department_output_loss: 0.7566 - val_loss: 1.1303\n",
      "Epoch 47/50\n",
      "\u001b[1m37/37\u001b[0m \u001b[32m━━━━━━━━━━━━━━━━━━━━\u001b[0m\u001b[37m\u001b[0m \u001b[1m0s\u001b[0m 8ms/step - attrition_output_accuracy: 0.8724 - attrition_output_loss: 0.3565 - department_output_accuracy: 0.6505 - department_output_loss: 0.7081 - loss: 1.0645 - val_attrition_output_accuracy: 0.8673 - val_attrition_output_loss: 0.3489 - val_department_output_accuracy: 0.6259 - val_department_output_loss: 0.7621 - val_loss: 1.1363\n",
      "Epoch 48/50\n",
      "\u001b[1m37/37\u001b[0m \u001b[32m━━━━━━━━━━━━━━━━━━━━\u001b[0m\u001b[37m\u001b[0m \u001b[1m0s\u001b[0m 7ms/step - attrition_output_accuracy: 0.8927 - attrition_output_loss: 0.2814 - department_output_accuracy: 0.6685 - department_output_loss: 0.7173 - loss: 0.9986 - val_attrition_output_accuracy: 0.8571 - val_attrition_output_loss: 0.3577 - val_department_output_accuracy: 0.6395 - val_department_output_loss: 0.7514 - val_loss: 1.1253\n",
      "Epoch 49/50\n",
      "\u001b[1m37/37\u001b[0m \u001b[32m━━━━━━━━━━━━━━━━━━━━\u001b[0m\u001b[37m\u001b[0m \u001b[1m0s\u001b[0m 8ms/step - attrition_output_accuracy: 0.8843 - attrition_output_loss: 0.3245 - department_output_accuracy: 0.6655 - department_output_loss: 0.7164 - loss: 1.0409 - val_attrition_output_accuracy: 0.8469 - val_attrition_output_loss: 0.3592 - val_department_output_accuracy: 0.6361 - val_department_output_loss: 0.7444 - val_loss: 1.1234\n",
      "Epoch 50/50\n",
      "\u001b[1m37/37\u001b[0m \u001b[32m━━━━━━━━━━━━━━━━━━━━\u001b[0m\u001b[37m\u001b[0m \u001b[1m0s\u001b[0m 7ms/step - attrition_output_accuracy: 0.8904 - attrition_output_loss: 0.3056 - department_output_accuracy: 0.6740 - department_output_loss: 0.7261 - loss: 1.0316 - val_attrition_output_accuracy: 0.8503 - val_attrition_output_loss: 0.3647 - val_department_output_accuracy: 0.5884 - val_department_output_loss: 0.7854 - val_loss: 1.1829\n",
      "Model training complete.\n"
     ]
    }
   ],
   "source": [
    "# Convert Attrition to binary and ensure the shape is correct\n",
    "y_train_attrition_binary = y_train['Attrition'].map({'Yes': 1, 'No': 0}).values.reshape(-1, 1)\n",
    "y_test_attrition_binary = y_test['Attrition'].map({'Yes': 1, 'No': 0}).values.reshape(-1, 1)\n",
    "\n",
    "# Convert all inputs and outputs to NumPy arrays\n",
    "X_train_np = X_train.to_numpy()\n",
    "X_test_np = X_test.to_numpy()\n",
    "y_train_department_np = np.array(y_train_department_encoded)\n",
    "y_test_department_np = np.array(y_test_department_encoded)\n",
    "y_train_attrition_np = np.array(y_train_attrition_binary)\n",
    "y_test_attrition_np = np.array(y_test_attrition_binary)\n",
    "\n",
    "# Debug: Print shapes to ensure alignment\n",
    "print(f\"X_train_np shape: {X_train_np.shape}\")\n",
    "print(f\"y_train_department_np shape: {y_train_department_np.shape}\")\n",
    "print(f\"y_train_attrition_np shape: {y_train_attrition_np.shape}\")\n",
    "print(f\"X_test_np shape: {X_test_np.shape}\")\n",
    "print(f\"y_test_department_np shape: {y_test_department_np.shape}\")\n",
    "print(f\"y_test_attrition_np shape: {y_test_attrition_np.shape}\")\n",
    "\n",
    "# Debug: Verify there are no missing or mismatched data points\n",
    "print(\"Checking for missing values...\")\n",
    "print(f\"X_train missing: {np.isnan(X_train_np).sum()}\")\n",
    "print(f\"y_train_department_np missing: {np.isnan(y_train_department_np).sum()}\")\n",
    "print(f\"y_train_attrition_np missing: {np.isnan(y_train_attrition_np).sum()}\")\n",
    "print(f\"X_test missing: {np.isnan(X_test_np).sum()}\")\n",
    "print(f\"y_test_department_np missing: {np.isnan(y_test_department_np).sum()}\")\n",
    "print(f\"y_test_attrition_np missing: {np.isnan(y_test_attrition_np).sum()}\")\n",
    "\n",
    "# Rebuild the model\n",
    "from tensorflow.keras import layers, Input, Model\n",
    "\n",
    "# Input layer\n",
    "input_layer = Input(shape=(X_train_np.shape[1],))\n",
    "\n",
    "# Shared layers\n",
    "shared_layer1 = layers.Dense(128, activation='relu')(input_layer)\n",
    "shared_layer2 = layers.Dense(64, activation='relu')(shared_layer1)\n",
    "\n",
    "# Department branch\n",
    "department_hidden = layers.Dense(32, activation='relu')(shared_layer2)\n",
    "department_output = layers.Dense(y_train_department_np.shape[1], activation='softmax', name='department_output')(department_hidden)\n",
    "\n",
    "# Attrition branch\n",
    "attrition_hidden = layers.Dense(32, activation='relu')(shared_layer2)\n",
    "attrition_output = layers.Dense(1, activation='sigmoid', name='attrition_output')(attrition_hidden)\n",
    "\n",
    "# Define the model\n",
    "model = Model(inputs=input_layer, outputs=[department_output, attrition_output])\n",
    "\n",
    "# Compile the model\n",
    "model.compile(\n",
    "    optimizer='adam',\n",
    "    loss={\n",
    "        'department_output': 'categorical_crossentropy',\n",
    "        'attrition_output': 'binary_crossentropy'\n",
    "    },\n",
    "    metrics={\n",
    "        'department_output': 'accuracy',\n",
    "        'attrition_output': 'accuracy'\n",
    "    }\n",
    ")\n",
    "\n",
    "# Summarize the model\n",
    "model.summary()\n",
    "\n",
    "# Train the model\n",
    "history = model.fit(\n",
    "    X_train_np,\n",
    "    {\n",
    "        'department_output': y_train_department_np,\n",
    "        'attrition_output': y_train_attrition_np\n",
    "    },\n",
    "    validation_data=(\n",
    "        X_test_np,\n",
    "        {\n",
    "            'department_output': y_test_department_np,\n",
    "            'attrition_output': y_test_attrition_np\n",
    "        }\n",
    "    ),\n",
    "    epochs=50,\n",
    "    batch_size=32\n",
    ")\n",
    "\n",
    "print(\"Model training complete.\")\n"
   ]
  },
  {
   "cell_type": "code",
   "execution_count": 61,
   "metadata": {
    "colab": {
     "base_uri": "https://localhost:8080/"
    },
    "executionInfo": {
     "elapsed": 379,
     "status": "ok",
     "timestamp": 1730699259894,
     "user": {
      "displayName": "Alexander Booth",
      "userId": "02269714993535573104"
     },
     "user_tz": 360
    },
    "id": "VsMoaQlgGc3U",
    "outputId": "636c85ba-ee63-4087-b7d1-00b408f1055a"
   },
   "outputs": [
    {
     "name": "stdout",
     "output_type": "stream",
     "text": [
      "\u001b[1m10/10\u001b[0m \u001b[32m━━━━━━━━━━━━━━━━━━━━\u001b[0m\u001b[37m\u001b[0m \u001b[1m0s\u001b[0m 14ms/step - attrition_output_accuracy: 0.8278 - attrition_output_loss: 0.4217 - department_output_accuracy: 0.5617 - department_output_loss: 0.8231 - loss: 1.2508\n",
      "Model evaluation results:\n",
      "Total Loss: 1.182944893836975\n",
      "Department Output Loss: 0.7853711247444153\n",
      "Department Output Accuracy: 0.36471009254455566\n",
      "Attrition Output Loss: 0.8503401279449463\n",
      "Attrition Output Accuracy: 0.5884353518486023\n"
     ]
    }
   ],
   "source": [
    "# Evaluate the model with the testing data\n",
    "results = model.evaluate(\n",
    "    X_test_np,\n",
    "    {\n",
    "        'department_output': y_test_department_np,\n",
    "        'attrition_output': y_test_attrition_np\n",
    "    },\n",
    "    verbose=1\n",
    ")\n",
    "\n",
    "# Print the evaluation results\n",
    "print(\"Model evaluation results:\")\n",
    "print(f\"Total Loss: {results[0]}\")\n",
    "print(f\"Department Output Loss: {results[1]}\")\n",
    "print(f\"Department Output Accuracy: {results[2]}\")\n",
    "print(f\"Attrition Output Loss: {results[3]}\")\n",
    "print(f\"Attrition Output Accuracy: {results[4]}\")\n"
   ]
  },
  {
   "cell_type": "code",
   "execution_count": 63,
   "metadata": {
    "colab": {
     "base_uri": "https://localhost:8080/"
    },
    "executionInfo": {
     "elapsed": 113,
     "status": "ok",
     "timestamp": 1730699260004,
     "user": {
      "displayName": "Alexander Booth",
      "userId": "02269714993535573104"
     },
     "user_tz": 360
    },
    "id": "ZlCtlHi0Vt54",
    "outputId": "3a32435c-11cf-48da-81b5-1431d6c00da2"
   },
   "outputs": [
    {
     "name": "stdout",
     "output_type": "stream",
     "text": [
      "\u001b[1m10/10\u001b[0m \u001b[32m━━━━━━━━━━━━━━━━━━━━\u001b[0m\u001b[37m\u001b[0m \u001b[1m0s\u001b[0m 24ms/step - attrition_output_accuracy: 0.8278 - attrition_output_loss: 0.4217 - department_output_accuracy: 0.5617 - department_output_loss: 0.8231 - loss: 1.2508 \n",
      "Attrition predictions accuracy: 0.5884353518486023\n",
      "Department predictions accuracy: 0.36471009254455566\n"
     ]
    }
   ],
   "source": [
    "# Evaluate the model with the testing data\n",
    "results = model.evaluate(\n",
    "    X_test_np,\n",
    "    {\n",
    "        'department_output': y_test_department_np,\n",
    "        'attrition_output': y_test_attrition_np\n",
    "    },\n",
    "    verbose=1\n",
    ")\n",
    "\n",
    "# Print the accuracy for both department and attrition\n",
    "print(f\"Attrition predictions accuracy: {results[4]}\")\n",
    "print(f\"Department predictions accuracy: {results[2]}\")\n"
   ]
  },
  {
   "cell_type": "markdown",
   "metadata": {
    "id": "eGSyfsZfWOQM"
   },
   "source": [
    "# Summary\n",
    "\n",
    "In the provided space below, briefly answer the following questions.\n",
    "\n",
    "1. Is accuracy the best metric to use on this data? Why or why not?\n",
    "\n",
    "2. What activation functions did you choose for your output layers, and why?\n",
    "\n",
    "3. Can you name a few ways that this model might be improved?"
   ]
  },
  {
   "cell_type": "markdown",
   "metadata": {
    "id": "pi9SLpFnWvbF"
   },
   "source": [
    "YOUR ANSWERS HERE\n",
    "\n",
    "1. Accuracy is a helpful metric, but it might not be the best for this data, especially for the attrition prediction task. The dataset may have class imbalance (e.g., more employees staying than leaving), where accuracy could be misleading. Metrics like precision, recall, and F1-score should also be considered to evaluate the model's performance more comprehensively, particularly for the attrition_output.\n",
    "   \n",
    "2. Attrition Output Layer:\n",
    "We used the sigmoid activation function because it is ideal for binary classification tasks. It outputs a value between 0 and 1, which can be interpreted as a probability for predicting whether an employee will leave the company.\n",
    "Department Output Layer:\n",
    "We used the softmax activation function for the multi-class classification of department predictions. It provides a probability distribution across the three departments, ensuring the output sums to 1 and can be used to determine the most likely department for each employee.\n",
    "\n",
    "3. Hyperparameter Tuning:\n",
    "Experiment with learning rates, batch sizes, number of neurons, and the number of layers to optimize model performance.\n",
    "\n",
    "Dropout Layers:\n",
    "Add dropout layers to reduce overfitting by randomly deactivating a fraction of neurons during training.\n",
    "\n",
    "Feature Engineering:\n",
    "Add or transform features to make them more predictive, such as interaction terms or normalized continuous variables.\n",
    "\n",
    "Class Balancing:\n",
    "Use techniques like oversampling, undersampling, or class weights to address any imbalance in the attrition data.\n",
    "\n",
    "Regularization:\n",
    "Apply L1 or L2 regularization in dense layers to prevent overfitting.\n",
    "\n",
    "Advanced Models:\n",
    "Consider using ensemble techniques, like random forests or gradient boosting, to compare with the neural network's performance. "
   ]
  },
  {
   "cell_type": "code",
   "execution_count": 17,
   "metadata": {
    "executionInfo": {
     "elapsed": 3,
     "status": "ok",
     "timestamp": 1730699260004,
     "user": {
      "displayName": "Alexander Booth",
      "userId": "02269714993535573104"
     },
     "user_tz": 360
    },
    "id": "ZuQWjGgGXZ3C"
   },
   "outputs": [],
   "source": []
  }
 ],
 "metadata": {
  "colab": {
   "provenance": []
  },
  "kernelspec": {
   "display_name": "Python 3 (ipykernel)",
   "language": "python",
   "name": "python3"
  },
  "language_info": {
   "codemirror_mode": {
    "name": "ipython",
    "version": 3
   },
   "file_extension": ".py",
   "mimetype": "text/x-python",
   "name": "python",
   "nbconvert_exporter": "python",
   "pygments_lexer": "ipython3",
   "version": "3.12.4"
  },
  "vscode": {
   "interpreter": {
    "hash": "31f2aee4e71d21fbe5cf8b01ff0e069b9275f58929596ceb00d14d90e3e16cd6"
   }
  }
 },
 "nbformat": 4,
 "nbformat_minor": 4
}
